{
 "cells": [
  {
   "cell_type": "code",
   "execution_count": 1,
   "metadata": {},
   "outputs": [],
   "source": [
    "import numpy as np\n",
    "import pandas as pd \n",
    "import torch\n",
    "from glob import glob\n",
    "import torch.nn as nn\n",
    "import matplotlib.pyplot as plt\n",
    "import torchvision.transforms as T\n",
    "import utils"
   ]
  },
  {
   "cell_type": "code",
   "execution_count": 2,
   "metadata": {},
   "outputs": [],
   "source": [
    "DATA_DIR = \"/home/will/Documents/datasets/cityscapes-image-pairs/cityscapes_data\"\n",
    "IMG_SIZE =256\n",
    "train_path = glob(f'{DATA_DIR}/train/*')\n",
    "valid_path = glob(f'{DATA_DIR}/val/*')"
   ]
  },
  {
   "cell_type": "code",
   "execution_count": null,
   "metadata": {},
   "outputs": [],
   "source": [
    "fig, ax = plt.subplots(5,2,figsize=(10,30))\n",
    "for i in range(3):\n",
    "    img = plt.imread(train_path[i])\n",
    "    ax[i][0].imshow(img[:,:256])\n",
    "    ax[i][1].imshow(img[:,256:])"
   ]
  },
  {
   "cell_type": "code",
   "execution_count": 4,
   "metadata": {},
   "outputs": [],
   "source": [
    "transformImage = T.Compose(\n",
    "    [\n",
    "        T.ToTensor(),\n",
    "        T.Resize((IMG_SIZE, IMG_SIZE))\n",
    "    ]\n",
    ")"
   ]
  },
  {
   "attachments": {},
   "cell_type": "markdown",
   "metadata": {},
   "source": [
    "### Cityscapes"
   ]
  },
  {
   "cell_type": "code",
   "execution_count": null,
   "metadata": {},
   "outputs": [],
   "source": [
    "\n",
    "train_data = utils.AnyDataset(train_path, transformImage, transformImage)\n",
    "val_data = utils.AnyDataset(valid_path, transformImage, transformImage)"
   ]
  },
  {
   "attachments": {},
   "cell_type": "markdown",
   "metadata": {},
   "source": [
    "### Carla"
   ]
  },
  {
   "cell_type": "code",
   "execution_count": null,
   "metadata": {},
   "outputs": [],
   "source": [
    "DATA_DIR = \"/home/will/Documents/datasets/carla\"\n",
    "images = glob(f'{DATA_DIR}/images/*')\n",
    "labels = glob(f'{DATA_DIR}/labels/*')\n",
    "\n",
    "full_dataset = utils.AnyDataset(images, labels, transformImage, transformImage)\n",
    "split = int(len(full_dataset) * 0.7)\n",
    "train_data, val_data = torch.utils.data.random_split(\n",
    "    full_dataset, [split, len(full_dataset) - split])"
   ]
  },
  {
   "cell_type": "code",
   "execution_count": null,
   "metadata": {},
   "outputs": [],
   "source": [
    "from model import UNet\n",
    "from torch.utils.data import DataLoader\n",
    "\n",
    "lr = 0.01\n",
    "device = 'cuda' if torch.cuda.is_available() else 'cpu'\n",
    "model = UNet(3).float().to(device)\n",
    "loss_function = nn.MSELoss()\n",
    "optimizer = torch.optim.Adam(model.parameters(), lr=lr)\n",
    "\n",
    "train_info = utils.train(\n",
    "    model, train_data, val_data, loss_function, optimizer, epochs=30,\n",
    "    show_every=15\n",
    ")"
   ]
  },
  {
   "cell_type": "code",
   "execution_count": 7,
   "metadata": {},
   "outputs": [],
   "source": [
    "import os\n",
    "import pandas as pd\n",
    "cwd = os.getcwd()\n",
    "\n",
    "def save_results(results, name):\n",
    "    pd.DataFrame(train_info[0]).to_csv(\n",
    "        f\"{cwd}/results/{name}/{name}_train.txt\")\n",
    "\n",
    "    pd.DataFrame(train_info[0]).to_csv(\n",
    "        f\"{cwd}/results/{name}/{name}_val.txt\")\n",
    "\n",
    "save_results(train_info, \"carla\")"
   ]
  },
  {
   "cell_type": "code",
   "execution_count": null,
   "metadata": {},
   "outputs": [],
   "source": [
    "import matplotlib.pyplot as plt \n",
    "\n",
    "def plot_results(train_loss, val_loss):\n",
    "    # fig, axs = plt.plot(figsize=(24, 8))\n",
    "    # axs.plot()\n",
    "    plt.figure(figsize=(10, 8))\n",
    "    plt.plot(train_loss,color='b',label='train loss')\n",
    "    plt.plot(val_loss,color='r',label = 'val_loss')\n",
    "    plt.legend()\n",
    "plot_results(*train_info)"
   ]
  }
 ],
 "metadata": {
  "kernelspec": {
   "display_name": "Python 3",
   "language": "python",
   "name": "python3"
  },
  "language_info": {
   "codemirror_mode": {
    "name": "ipython",
    "version": 3
   },
   "file_extension": ".py",
   "mimetype": "text/x-python",
   "name": "python",
   "nbconvert_exporter": "python",
   "pygments_lexer": "ipython3",
   "version": "3.10.10"
  },
  "orig_nbformat": 4,
  "vscode": {
   "interpreter": {
    "hash": "767d51c1340bd893661ea55ea3124f6de3c7a262a8b4abca0554b478b1e2ff90"
   }
  }
 },
 "nbformat": 4,
 "nbformat_minor": 2
}
