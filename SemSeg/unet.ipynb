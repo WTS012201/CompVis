{
 "cells": [
  {
   "cell_type": "code",
   "execution_count": 1,
   "metadata": {},
   "outputs": [],
   "source": [
    "import numpy as np\n",
    "import pandas as pd \n",
    "import torch\n",
    "from glob import glob\n",
    "import torch.nn as nn\n",
    "import matplotlib.pyplot as plt\n",
    "import torchvision.transforms as T\n",
    "import utils\n",
    "\n",
    "import os\n",
    "import pandas as pd\n",
    "cwd = os.getcwd()"
   ]
  },
  {
   "cell_type": "code",
   "execution_count": 2,
   "metadata": {},
   "outputs": [],
   "source": [
    "def save_results(name, train_loss, val_loss):\n",
    "    pd.DataFrame(train_loss).to_csv(\n",
    "        f\"{cwd}/results/{name}/{name}_train.txt\")\n",
    "    pd.DataFrame(val_loss).to_csv(\n",
    "        f\"{cwd}/results/{name}/{name}_val.txt\")\n"
   ]
  },
  {
   "cell_type": "code",
   "execution_count": 3,
   "metadata": {},
   "outputs": [],
   "source": [
    "import matplotlib.pyplot as plt \n",
    "\n",
    "def plot_results(name, train_loss, val_loss):\n",
    "    plt.figure(figsize=(10, 8))\n",
    "    plt.plot(train_loss,color='b',label='train loss')\n",
    "    plt.plot(val_loss,color='r',label = 'val_loss')\n",
    "    plt.legend()\n",
    "    plt.savefig(f\"{cwd}/results/{name}/{name}_graph\") "
   ]
  },
  {
   "cell_type": "code",
   "execution_count": 4,
   "metadata": {},
   "outputs": [],
   "source": [
    "from model import UNet\n",
    "\n",
    "device = 'cuda' if torch.cuda.is_available() else 'cpu'\n",
    "\n",
    "def run(train_data, val_data, name, lr=0.01):\n",
    "    save_path = f\"{cwd}/results/{name}/\"\n",
    "    model = UNet(3).float().to(device)\n",
    "    loss_function = nn.MSELoss()\n",
    "    optimizer = torch.optim.Adam(model.parameters(), lr=lr)\n",
    "\n",
    "    train_info = utils.train(\n",
    "        model, train_data, val_data, loss_function, optimizer,\n",
    "        epochs=30, show_every=5, save_path=f\"{save_path}{name}\"\n",
    "    )\n",
    "\n",
    "    save_results(name, *train_info)\n",
    "    plot_results(name, *train_info)\n",
    "    torch.save(model.state_dict(), f\"{save_path}model.pt\")"
   ]
  },
  {
   "cell_type": "code",
   "execution_count": 5,
   "metadata": {},
   "outputs": [],
   "source": [
    "IMG_SIZE =256\n",
    "transformImage = T.Compose([\n",
    "        T.ToTensor(),\n",
    "        T.Resize((IMG_SIZE, IMG_SIZE))\n",
    "    ]\n",
    ")\n",
    "\n",
    "ds_kwargs = {\n",
    "    \"transform_orig\": transformImage,\n",
    "    \"transform_seg\": transformImage,\n",
    "}"
   ]
  },
  {
   "attachments": {},
   "cell_type": "markdown",
   "metadata": {},
   "source": [
    "### Cityscapes"
   ]
  },
  {
   "cell_type": "code",
   "execution_count": null,
   "metadata": {},
   "outputs": [],
   "source": [
    "DATA_DIR = \"/home/will/Documents/datasets/cityscapes-image-pairs/cityscapes_data\"\n",
    "\n",
    "train_path = glob(f'{DATA_DIR}/train/*')\n",
    "valid_path = glob(f'{DATA_DIR}/val/*')\n",
    "\n",
    "train_data = utils.AnyDataset(train_path, **ds_kwargs)\n",
    "val_data = utils.AnyDataset(valid_path, **ds_kwargs)\n",
    "\n",
    "run(train_data, val_data, \"cityscapes\")"
   ]
  },
  {
   "attachments": {},
   "cell_type": "markdown",
   "metadata": {},
   "source": [
    "### Carla"
   ]
  },
  {
   "cell_type": "code",
   "execution_count": null,
   "metadata": {},
   "outputs": [],
   "source": [
    "DATA_DIR = \"/home/will/Documents/datasets/carla\"\n",
    "images = glob(f'{DATA_DIR}/images/*')\n",
    "labels = glob(f'{DATA_DIR}/labels/*')\n",
    "\n",
    "full_dataset = utils.AnyDataset(images, labels, transformImage, transformImage)\n",
    "split = int(len(full_dataset) * 0.7)\n",
    "train_data, val_data = torch.utils.data.random_split(\n",
    "    full_dataset, [split, len(full_dataset) - split])\n",
    "\n",
    "run(train_data, val_data, \"carla\")"
   ]
  }
 ],
 "metadata": {
  "kernelspec": {
   "display_name": "Python 3",
   "language": "python",
   "name": "python3"
  },
  "language_info": {
   "codemirror_mode": {
    "name": "ipython",
    "version": 3
   },
   "file_extension": ".py",
   "mimetype": "text/x-python",
   "name": "python",
   "nbconvert_exporter": "python",
   "pygments_lexer": "ipython3",
   "version": "3.10.10"
  },
  "orig_nbformat": 4,
  "vscode": {
   "interpreter": {
    "hash": "767d51c1340bd893661ea55ea3124f6de3c7a262a8b4abca0554b478b1e2ff90"
   }
  }
 },
 "nbformat": 4,
 "nbformat_minor": 2
}
